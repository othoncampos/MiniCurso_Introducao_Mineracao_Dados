{
 "cells": [
  {
   "cell_type": "markdown",
   "metadata": {},
   "source": [
    "# Análise de dados das viagens realizadas a serviço\n",
    "Com base nos dados disponibilizados no Portal da Transparencia, vamos analisar os dados das viagens realizadas à serviço, pelos funcionários públicos federais, no ano de 2018.\n",
    "\n",
    "Os dados podem ser baixados nesse site: http://www.transparencia.gov.br/download-de-dados/viagens\n",
    "\n",
    "Dicionário de Dados: \n",
    "http://www.transparencia.gov.br/pagina-interna/603364-dicionário-de-dados-viagens-a-Serviço-Pagamentos\n",
    "\n",
    "O Arquivo que será utilizado nesta análise exploratória está no formato CSV e será o **2018_Pagamento.csv**\n",
    "\n",
    "Material disponível em: https://github.com/othoncampos/MiniCurso_Introducao_Mineracao_Dados"
   ]
  },
  {
   "cell_type": "markdown",
   "metadata": {},
   "source": [
    "# Configução do ambiente"
   ]
  },
  {
   "cell_type": "code",
   "execution_count": null,
   "metadata": {},
   "outputs": [],
   "source": [
    "# Importando o módulo pandas\n",
    "import pandas as pd"
   ]
  },
  {
   "cell_type": "code",
   "execution_count": null,
   "metadata": {},
   "outputs": [],
   "source": [
    "# Para mostrar os dados em gráfico, precisamos informar que queremos visualizar o gráfico dentro do notebook.\n",
    "# Utilizaremos o framewrk matplot \n",
    "# Os dados serão visualizados em um gráfico de barras\n",
    "%matplotlib inline \n",
    "\n",
    "# podemos configurar o IPython Notebook para produzir gráficos em SVG (formato vetorial), que não perde a definição.\n",
    "%config InlineBackend.figure_format='svg'"
   ]
  },
  {
   "cell_type": "markdown",
   "metadata": {},
   "source": [
    "# Leitura de arquivo csv"
   ]
  },
  {
   "cell_type": "markdown",
   "metadata": {},
   "source": [
    "**Atenção:** Neste trabalho será utilizado o arquivo CSV **2018_Pagamento.csv**"
   ]
  },
  {
   "cell_type": "code",
   "execution_count": null,
   "metadata": {},
   "outputs": [],
   "source": [
    "# Carregando o arquivo csv\n",
    "df = pd.read_csv('2018_Pagamento.csv')\n",
    "\n",
    "# UnicodeDecodeError: 'utf-8' codec can't decode : \n",
    "#    O problema ocorrido é devido à codificacao Unicode do arquivo"
   ]
  },
  {
   "cell_type": "code",
   "execution_count": null,
   "metadata": {},
   "outputs": [],
   "source": [
    "# Importando o arquivo passando o encoding\n",
    "# O código cp1252 é o padrão de arquicos csv gerados pelo excel. No geral descobrimos os encoding pesquisando no google\n",
    "df = pd.read_csv('2018_Pagamento.csv', encoding='cp1252' )\n",
    "\n",
    "# ParserError: Error tokenizing data. \n",
    "#    O problema ocorrido é devido ao separador de campos utilizado no arquivo."
   ]
  },
  {
   "cell_type": "code",
   "execution_count": null,
   "metadata": {},
   "outputs": [],
   "source": [
    "# O arquivo é separado por ';' e o encoding é cp1252\n",
    "df = pd.read_csv('2018_Pagamento.csv', sep=';', encoding='cp1252' )"
   ]
  },
  {
   "cell_type": "markdown",
   "metadata": {},
   "source": [
    "É possivel importar apenas algumas colunas de um arquivo CSV<br>\n",
    "Exemplo:\n",
    "- Nome do órgão superior : 2\n",
    "- Nome do órgao pagador  : 4\n",
    "- Nome da unidade gestora pagadora : 6\n",
    "- Tipo de pagamento : 7\n",
    "\n",
    "Código:<br>\n",
    "df = pd.read_csv('2018_Pagamento.csv', sep=';', encoding='cp1252', usecols=[2, 4, 6, 7, 8] )\n",
    "\n",
    "Também é possivel trocar os nomes das colunas<br>\n",
    "Código<br>\n",
    "df.columns = ['Superior', 'Pagador', 'Unidade', 'Tipo', 'Valor_STR']\n",
    "\n"
   ]
  },
  {
   "cell_type": "markdown",
   "metadata": {},
   "source": [
    "# Comando para visualizar pequenas amostras dos dados"
   ]
  },
  {
   "cell_type": "code",
   "execution_count": null,
   "metadata": {},
   "outputs": [],
   "source": [
    "# Exibe os primeiros cindo registros lidos\n",
    "df.head()"
   ]
  },
  {
   "cell_type": "code",
   "execution_count": null,
   "metadata": {},
   "outputs": [],
   "source": [
    "# Exibe os primeiros n registros do dataframe\n",
    "df.head( 20 )"
   ]
  },
  {
   "cell_type": "code",
   "execution_count": null,
   "metadata": {},
   "outputs": [],
   "source": [
    "# Exibe os ultimos n registros do dataframe\n",
    "df.tail( 10)"
   ]
  },
  {
   "cell_type": "code",
   "execution_count": null,
   "metadata": {},
   "outputs": [],
   "source": [
    "# Exibe linhas aleatórias, é obrigatório passar o número da amostra\n",
    "df.sample( 10 )"
   ]
  },
  {
   "cell_type": "code",
   "execution_count": null,
   "metadata": {},
   "outputs": [],
   "source": [
    "# comando para verificar o tamnho do dataframe.\n",
    "# Formato(linhas, colunas)\n",
    "df.shape"
   ]
  },
  {
   "cell_type": "code",
   "execution_count": null,
   "metadata": {},
   "outputs": [],
   "source": [
    "# Verificar os tipos de dados das colunas \n",
    "df.dtypes"
   ]
  },
  {
   "cell_type": "code",
   "execution_count": null,
   "metadata": {},
   "outputs": [],
   "source": [
    "# Função que conta o número de ocorrencias das colunas\n",
    "df.count()"
   ]
  },
  {
   "cell_type": "code",
   "execution_count": null,
   "metadata": {},
   "outputs": [],
   "source": [
    "# Analise matemática dos dados\n",
    "df.describe()"
   ]
  },
  {
   "cell_type": "code",
   "execution_count": null,
   "metadata": {},
   "outputs": [],
   "source": [
    "# DEscrever os dados\n",
    "df.info()"
   ]
  },
  {
   "cell_type": "markdown",
   "metadata": {},
   "source": [
    "# Comandos para manipulação dos dados"
   ]
  },
  {
   "cell_type": "markdown",
   "metadata": {},
   "source": [
    "## Ajustando a coluna Valor para o tipo númerico Float"
   ]
  },
  {
   "cell_type": "code",
   "execution_count": null,
   "metadata": {},
   "outputs": [],
   "source": [
    "# O Comando replace substitui a ',' por ponto antes de fazer a conversão de tipos (Type Cast, ou simplesmente Cast). \n",
    "# Apos a conversão de tipos, os valores convertidos são atribuidos a mesma coluna \n",
    "df['Valor'] = pd.to_numeric( df['Valor'].str.replace( ',', '.') )"
   ]
  },
  {
   "cell_type": "code",
   "execution_count": null,
   "metadata": {},
   "outputs": [],
   "source": [
    "df.info()"
   ]
  },
  {
   "cell_type": "markdown",
   "metadata": {},
   "source": [
    "## unique() : Método que lista os valores únicos numa coluna "
   ]
  },
  {
   "cell_type": "code",
   "execution_count": null,
   "metadata": {},
   "outputs": [],
   "source": [
    "df['Nome do órgão superior'].unique()"
   ]
  },
  {
   "cell_type": "markdown",
   "metadata": {},
   "source": [
    "## value_counts() : Método para retonar a quantidade de ocorrências unicas de cada valor para uma coluna"
   ]
  },
  {
   "cell_type": "code",
   "execution_count": null,
   "metadata": {},
   "outputs": [],
   "source": [
    "#Quantidade de registros por coluna. Neste caso estamos vendo a quantidade de pagamentos por órgão superior\n",
    "df['Nome do órgão superior'].value_counts()"
   ]
  },
  {
   "cell_type": "code",
   "execution_count": null,
   "metadata": {},
   "outputs": [],
   "source": [
    "# Os valores contados também podem ser normalizados para expressar porcentagens\n",
    "df['Nome do órgão superior'].value_counts(normalize=True)"
   ]
  },
  {
   "cell_type": "code",
   "execution_count": null,
   "metadata": {},
   "outputs": [],
   "source": [
    "# Mudando a ordem de exibição da lista\n",
    "df['Nome do órgão superior'].value_counts(ascending=False)"
   ]
  },
  {
   "cell_type": "markdown",
   "metadata": {},
   "source": [
    "## groupby() : Método usado para agrupar registros de um DataFrame em grupos"
   ]
  },
  {
   "cell_type": "markdown",
   "metadata": {},
   "source": [
    "Funções de agregação: <br>\n",
    "- sum() : Soma\n",
    "- mean() : Média\n",
    "- count() : conta todos os valores \n",
    "- size() : Conta valores não nulos \n",
    "- max() : Valor máximo\n",
    "- min()\t: Valor Mínimo \n",
    "- std() : Desvio padrão \n",
    "- median() : Mediana"
   ]
  },
  {
   "cell_type": "code",
   "execution_count": null,
   "metadata": {},
   "outputs": [],
   "source": [
    "# Comando para formar o valor Float\n",
    "pd.options.display.float_format = '{:.2f}'.format"
   ]
  },
  {
   "cell_type": "code",
   "execution_count": null,
   "metadata": {},
   "outputs": [],
   "source": [
    "# Agrupando por valor e mostrando a quantidade de viagens \n",
    "df.groupby(['Nome do órgão superior'])['Valor'].count().sort_values(ascending=False)"
   ]
  },
  {
   "cell_type": "code",
   "execution_count": null,
   "metadata": {},
   "outputs": [],
   "source": [
    "# Total de valor gasto\n",
    "df['Valor'].sum()"
   ]
  },
  {
   "cell_type": "code",
   "execution_count": null,
   "metadata": {},
   "outputs": [],
   "source": [
    "# Agrupando por Tipo de Pagamento e o somatório dos seus valores\n",
    "df.groupby(['Tipo de pagamento'])['Valor'].sum().sort_values(ascending=False)"
   ]
  },
  {
   "cell_type": "code",
   "execution_count": null,
   "metadata": {},
   "outputs": [],
   "source": [
    "# Agrupando por Orgao Superior e somatório de valores\n",
    "df.groupby(['Nome do órgão superior'])['Valor'].sum().sort_values(ascending=False)"
   ]
  },
  {
   "cell_type": "markdown",
   "metadata": {},
   "source": [
    "# Visualização dos dados"
   ]
  },
  {
   "cell_type": "markdown",
   "metadata": {},
   "source": [
    "Métodos uteis: <br>\n",
    "- sort_values() : Ordenar os valores. O parametro opcional ascending (valores possiveis False | True) modifica a ordenacao \n",
    "- nlargest() : Exibe n maiores elementos\n",
    "- nlowest() : Exibe n menores elementos"
   ]
  },
  {
   "cell_type": "markdown",
   "metadata": {},
   "source": [
    "## Grafico em Barras"
   ]
  },
  {
   "cell_type": "code",
   "execution_count": null,
   "metadata": {},
   "outputs": [],
   "source": [
    "# Grafico que exibe a quantidade de viagens por orgão\n",
    "df['Nome do órgão superior'].value_counts().plot.bar()"
   ]
  },
  {
   "cell_type": "code",
   "execution_count": null,
   "metadata": {},
   "outputs": [],
   "source": [
    "# Grafico em barras que exibe os valores por orgão\n",
    "df.groupby(['Nome do órgão superior'])['Valor'].sum().sort_values(ascending=False).plot.bar()"
   ]
  },
  {
   "cell_type": "code",
   "execution_count": null,
   "metadata": {},
   "outputs": [],
   "source": [
    "# Grafico em barras, na horizontal, que exibe os valores por orgão\n",
    "df.groupby(['Nome do órgão superior'])['Valor'].sum().sort_values(ascending=False).plot.barh(title=\"Despesas de Viagens dos Órgãos\")"
   ]
  },
  {
   "cell_type": "markdown",
   "metadata": {},
   "source": [
    "## Gráfico Pizza"
   ]
  },
  {
   "cell_type": "code",
   "execution_count": null,
   "metadata": {},
   "outputs": [],
   "source": [
    "df.groupby(['Tipo de pagamento'])['Valor'].sum().plot.pie(title='Valores por tipo', legend=True, figsize=(7, 7))"
   ]
  },
  {
   "cell_type": "markdown",
   "metadata": {},
   "source": [
    "***"
   ]
  },
  {
   "cell_type": "markdown",
   "metadata": {},
   "source": [
    "# Separando um subconjunto de dados"
   ]
  },
  {
   "cell_type": "markdown",
   "metadata": {},
   "source": [
    "## Dados dos Institutos Federais "
   ]
  },
  {
   "cell_type": "code",
   "execution_count": null,
   "metadata": {},
   "outputs": [],
   "source": [
    "# Filtranto os dados apenas por institutos federais \n",
    "df_if = df[ (df['Nome do órgão superior'] == 'Ministério da Educação') & (df['Nome do órgao pagador'].str.contains( 'Instituto Federal' )) ]"
   ]
  },
  {
   "cell_type": "code",
   "execution_count": null,
   "metadata": {},
   "outputs": [],
   "source": [
    "# Lista de Institutos e quantidade de pagamentos \n",
    "df_if['Nome do órgao pagador'].value_counts()"
   ]
  },
  {
   "cell_type": "code",
   "execution_count": null,
   "metadata": {},
   "outputs": [],
   "source": [
    "# Lista de Institutos e valores pagos \n",
    "df_if.groupby(['Nome do órgao pagador'])['Valor'].sum()"
   ]
  },
  {
   "cell_type": "code",
   "execution_count": null,
   "metadata": {},
   "outputs": [],
   "source": [
    "# Exibe um grafico em barras com os 10 Institutos com maior valor de gasto em viagens \n",
    "df_if.groupby(['Nome do órgao pagador'])['Valor'].sum().nlargest(20).plot.bar(title=\"Despesas de Viagens dos Órgãos\")"
   ]
  },
  {
   "cell_type": "code",
   "execution_count": null,
   "metadata": {},
   "outputs": [],
   "source": [
    "# Exibe um grafico em barras com os 10 Institutos Federais com menor valor de gasto em viagens\n",
    "df_if.groupby(['Nome do órgao pagador'])['Valor'].sum().nsmallest(10).sort_values(ascending=False).plot.barh(title=\"Despesas de Viagens dos Órgãos\")"
   ]
  },
  {
   "cell_type": "markdown",
   "metadata": {},
   "source": [
    "## Dados do Instituto Federal da Bahia "
   ]
  },
  {
   "cell_type": "markdown",
   "metadata": {},
   "source": [
    "Observação: faremos os agrupamentos pelo campo: Nome da unidade gestora pagadora"
   ]
  },
  {
   "cell_type": "code",
   "execution_count": null,
   "metadata": {},
   "outputs": [],
   "source": [
    "# Filtrando Dados\n",
    "# Filtranto os dados apenas por institutos federais \n",
    "df_ifba = df[ (df['Nome do órgão superior'] == 'Ministério da Educação') & (df['Nome do órgao pagador'].str.contains( 'Instituto Federal da Bahia' )) ].copy()"
   ]
  },
  {
   "cell_type": "code",
   "execution_count": null,
   "metadata": {},
   "outputs": [],
   "source": [
    "# Listar todas as unidades gestoras \n",
    "df_ifba['Nome da unidade gestora pagadora'].unique()"
   ]
  },
  {
   "cell_type": "code",
   "execution_count": null,
   "metadata": {},
   "outputs": [],
   "source": [
    "# Lista de quantidade de pagamentos das unidades gestoras do IFBA\n",
    "df_ifba['Nome da unidade gestora pagadora'].value_counts()"
   ]
  },
  {
   "cell_type": "code",
   "execution_count": null,
   "metadata": {},
   "outputs": [],
   "source": [
    "# Agrupamento das unidades gestoras com o somatórios dos gastos com viagens\n",
    "df_ifba.groupby(['Nome da unidade gestora pagadora'])['Valor'].sum().sort_values(ascending=False)"
   ]
  },
  {
   "cell_type": "code",
   "execution_count": null,
   "metadata": {},
   "outputs": [],
   "source": [
    "# Listagem dos 10 maiores pagamentos feitos pelo IFBA\n",
    "df_ifba.nlargest(10, 'Valor')"
   ]
  },
  {
   "cell_type": "code",
   "execution_count": null,
   "metadata": {},
   "outputs": [],
   "source": [
    "# Listagem dos 10 menores pagamentos feitos pelo IFBA\n",
    "df_ifba.nsmallest(10, 'Valor')"
   ]
  },
  {
   "cell_type": "markdown",
   "metadata": {},
   "source": [
    "***"
   ]
  },
  {
   "cell_type": "markdown",
   "metadata": {},
   "source": [
    "## Obrigado - Othon Campos - <a href=\"https://www.portal.ifba.edu.br/paulo-afonso\"> IFBA - Paulo Afonso</a>"
   ]
  },
  {
   "cell_type": "code",
   "execution_count": null,
   "metadata": {},
   "outputs": [],
   "source": []
  }
 ],
 "metadata": {
  "kernelspec": {
   "display_name": "Python 3",
   "language": "python",
   "name": "python3"
  },
  "language_info": {
   "codemirror_mode": {
    "name": "ipython",
    "version": 3
   },
   "file_extension": ".py",
   "mimetype": "text/x-python",
   "name": "python",
   "nbconvert_exporter": "python",
   "pygments_lexer": "ipython3",
   "version": "3.7.1"
  }
 },
 "nbformat": 4,
 "nbformat_minor": 2
}
