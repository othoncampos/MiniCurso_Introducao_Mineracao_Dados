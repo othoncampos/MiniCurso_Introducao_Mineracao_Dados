{
 "cells": [
  {
   "cell_type": "code",
   "execution_count": 26,
   "metadata": {},
   "outputs": [],
   "source": [
    "import matplotlib.pyplot as plt\n",
    "from nltk.corpus import PlaintextCorpusReader\n",
    "from nltk.corpus import stopwords\n",
    "from nltk.probability import FreqDist\n",
    "from matplotlib.colors import ListedColormap\n",
    "from wordcloud import WordCloud\n",
    "import string\n",
    "import pandas as pd"
   ]
  },
  {
   "cell_type": "code",
   "execution_count": 4,
   "metadata": {},
   "outputs": [],
   "source": [
    "# Importando apenas as colunas que temos interesse\n",
    "df = pd.read_csv('2018_Viagem.csv', sep=';', encoding='cp1252', usecols=[1, 3, 5, 7, 8, 9, 10, 11, 12, 13, 14, 15] )\n",
    "# Modificando o nome das colunas \n",
    "df.columns = ['situacao', 'superior', 'solicitante', 'nome', 'cargo', 'data_inicio', 'data_fim', 'destinos', 'motivo', 'valor_diarias', 'valor_passagens', 'valor_outros']"
   ]
  },
  {
   "cell_type": "code",
   "execution_count": 5,
   "metadata": {},
   "outputs": [],
   "source": [
    "## Filtrando os dados para obter apenas as viagens realizadas\n",
    "df = df[ df['situacao'] == 'Realizada' ]"
   ]
  },
  {
   "cell_type": "code",
   "execution_count": 6,
   "metadata": {},
   "outputs": [],
   "source": [
    "# Filtranto os dados apenas pelo instituto federal da Bahia\n",
    "df_ifba = df[ (df['superior'] == 'Ministério da Educação') & (df['solicitante'].str.contains( 'Instituto Federal da Bahia' )) ].copy()"
   ]
  },
  {
   "cell_type": "code",
   "execution_count": 7,
   "metadata": {},
   "outputs": [],
   "source": [
    "# Convertendo a coluna 'data_inicio'\n",
    "df_ifba['data_inicio'] = pd.to_datetime(df_ifba['data_inicio'])"
   ]
  },
  {
   "cell_type": "code",
   "execution_count": 8,
   "metadata": {},
   "outputs": [],
   "source": [
    "# Convertendo a coluna 'data_inicio'\n",
    "df_ifba['data_fim'] = pd.to_datetime(df_ifba['data_fim'])"
   ]
  },
  {
   "cell_type": "code",
   "execution_count": 9,
   "metadata": {},
   "outputs": [],
   "source": [
    "df_ifba['valor_diarias'] = pd.to_numeric( df_ifba['valor_diarias'].str.replace( ',', '.') )"
   ]
  },
  {
   "cell_type": "code",
   "execution_count": 10,
   "metadata": {},
   "outputs": [],
   "source": [
    "df_ifba['valor_passagens'] = pd.to_numeric( df_ifba['valor_passagens'].str.replace( ',', '.') )"
   ]
  },
  {
   "cell_type": "code",
   "execution_count": 11,
   "metadata": {},
   "outputs": [],
   "source": [
    "df_ifba['valor_outros'] = pd.to_numeric( df_ifba['valor_outros'].str.replace( ',', '.') )"
   ]
  },
  {
   "cell_type": "code",
   "execution_count": 12,
   "metadata": {},
   "outputs": [],
   "source": [
    "# Criando uma nova coluna\n",
    "df_ifba['valor_total'] = df_ifba['valor_diarias'] + df_ifba['valor_passagens']+ df_ifba['valor_outros']"
   ]
  },
  {
   "cell_type": "code",
   "execution_count": 13,
   "metadata": {},
   "outputs": [],
   "source": [
    "# Destinos mais requisitados\n",
    "#destinos = df_ifba.groupby('destinos')['valor_total'].count()\n",
    "destinos = df_ifba['destinos']"
   ]
  },
  {
   "cell_type": "code",
   "execution_count": 40,
   "metadata": {},
   "outputs": [],
   "source": [
    "palavras = list( destinos.values )"
   ]
  },
  {
   "cell_type": "code",
   "execution_count": 41,
   "metadata": {},
   "outputs": [],
   "source": [
    "strListaPalavras = str(palavras)[1:-1]"
   ]
  },
  {
   "cell_type": "code",
   "execution_count": 38,
   "metadata": {},
   "outputs": [
    {
     "ename": "TypeError",
     "evalue": "__init__() missing 1 required positional argument: 'fileids'",
     "output_type": "error",
     "traceback": [
      "\u001b[0;31m---------------------------------------------------------------------------\u001b[0m",
      "\u001b[0;31mTypeError\u001b[0m                                 Traceback (most recent call last)",
      "\u001b[0;32m<ipython-input-38-c96cc73ef0e4>\u001b[0m in \u001b[0;36m<module>\u001b[0;34m\u001b[0m\n\u001b[1;32m      1\u001b[0m \u001b[0;34m\u001b[0m\u001b[0m\n\u001b[0;32m----> 2\u001b[0;31m \u001b[0mcorpus\u001b[0m \u001b[0;34m=\u001b[0m \u001b[0mPlaintextCorpusReader\u001b[0m\u001b[0;34m(\u001b[0m \u001b[0mstrListaPalavras\u001b[0m  \u001b[0;34m)\u001b[0m\u001b[0;34m\u001b[0m\u001b[0;34m\u001b[0m\u001b[0m\n\u001b[0m",
      "\u001b[0;31mTypeError\u001b[0m: __init__() missing 1 required positional argument: 'fileids'"
     ]
    }
   ],
   "source": []
  },
  {
   "cell_type": "code",
   "execution_count": 42,
   "metadata": {},
   "outputs": [],
   "source": [
    "stops = stopwords.words('portuguese')\n",
    "mapa_cores = ListedColormap(['orange', 'green', 'red', 'magenta'])\n",
    "nuvem = WordCloud(background_color = 'white',\n",
    "                  colormap = mapa_cores,\n",
    "                  stopwords = stops,\n",
    "                  max_words = 100)"
   ]
  },
  {
   "cell_type": "code",
   "execution_count": 43,
   "metadata": {},
   "outputs": [
    {
     "data": {
      "text/plain": [
       "<wordcloud.wordcloud.WordCloud at 0x1a274a4358>"
      ]
     },
     "execution_count": 43,
     "metadata": {},
     "output_type": "execute_result"
    }
   ],
   "source": [
    "nuvem.generate(strListaPalavras)"
   ]
  },
  {
   "cell_type": "code",
   "execution_count": null,
   "metadata": {},
   "outputs": [],
   "source": []
  },
  {
   "cell_type": "code",
   "execution_count": 22,
   "metadata": {},
   "outputs": [
    {
     "data": {
      "text/plain": [
       "1721"
      ]
     },
     "execution_count": 22,
     "metadata": {},
     "output_type": "execute_result"
    }
   ],
   "source": [
    "palavras_semstop = [p for p in palavras if p not in stops]\n",
    "len(palavras_semstop)"
   ]
  },
  {
   "cell_type": "code",
   "execution_count": 23,
   "metadata": {},
   "outputs": [
    {
     "data": {
      "text/plain": [
       "1721"
      ]
     },
     "execution_count": 23,
     "metadata": {},
     "output_type": "execute_result"
    }
   ],
   "source": [
    "palavras_sem_pontuacao = [p for p in palavras_semstop if p not in string.punctuation]\n",
    "len(palavras_sem_pontuacao)"
   ]
  },
  {
   "cell_type": "code",
   "execution_count": 27,
   "metadata": {},
   "outputs": [],
   "source": [
    "frequencia = FreqDist(palavras_sem_pontuacao)\n",
    "mais_comuns = frequencia.most_common(100)"
   ]
  },
  {
   "cell_type": "code",
   "execution_count": 28,
   "metadata": {},
   "outputs": [
    {
     "data": {
      "text/plain": [
       "[('Salvador/BA', 803),\n",
       " ('Brasília/DF', 67),\n",
       " ('Seabra/BA', 37),\n",
       " ('Jequié/BA', 34),\n",
       " ('Natal/RN', 34),\n",
       " ('Sem informação', 30),\n",
       " ('Vitória da Conquista/BA', 29),\n",
       " ('Santo Antônio de Jesus/BA', 28),\n",
       " ('Paulo Afonso/BA', 26),\n",
       " ('Ubaitaba/BA', 26),\n",
       " ('Jacobina/BA', 24),\n",
       " ('Recife/PE', 21),\n",
       " ('Barreiras/BA', 20),\n",
       " ('Foz do Iguaçu/PR', 18),\n",
       " ('Ilhéus/BA', 18),\n",
       " ('Porto Seguro/BA', 17),\n",
       " ('Fortaleza/CE', 17),\n",
       " ('Rio de Janeiro/RJ', 16),\n",
       " ('Campo Formoso/BA', 15),\n",
       " ('São Paulo/SP', 15),\n",
       " ('Feira de Santana/BA', 14),\n",
       " ('Euclides da Cunha/BA', 14),\n",
       " ('Cachoeira/BA', 12),\n",
       " ('Juazeiro/BA', 12),\n",
       " ('João Pessoa/PB', 12),\n",
       " ('Armação dos Búzios/RJ', 12),\n",
       " ('Lençóis/BA', 11),\n",
       " ('Jaguaquara/BA', 10),\n",
       " ('Florianópolis/SC', 10),\n",
       " ('Goiânia/GO', 10),\n",
       " ('Santo Amaro/BA', 9),\n",
       " ('Camacan/BA', 9),\n",
       " ('Brumado/BA', 8),\n",
       " ('Valença/BA', 8),\n",
       " ('Maceió/AL', 8),\n",
       " ('Mucugê/BA', 6),\n",
       " ('Simões Filho/BA', 6),\n",
       " ('Nova Itarana/BA', 6),\n",
       " ('Mata de São João/BA', 6),\n",
       " ('Vitória/ES', 6),\n",
       " ('Porto Seguro/BA, Eunápolis/BA, Ilhéus/BA', 6),\n",
       " ('Porto Alegre/RS', 5),\n",
       " ('Itaparica/BA', 5),\n",
       " ('Jequié/BA, Vitória da Conquista/BA', 5),\n",
       " ('Lauro de Freitas/BA', 5),\n",
       " ('São Luís/MA', 5),\n",
       " ('Piritiba/BA', 4),\n",
       " ('Amargosa/BA', 4),\n",
       " ('Feira de Santana/BA, Santo Amaro/BA', 4),\n",
       " ('Eunápolis/BA', 4),\n",
       " ('Maracás/BA, Caetité/BA', 4),\n",
       " ('Campinas/SP', 4),\n",
       " ('Nazaré/BA', 4),\n",
       " ('Itabuna/BA', 4),\n",
       " ('Salvador/BA, Lauro de Freitas/BA', 4),\n",
       " ('Curitiba/PR', 4),\n",
       " ('Porto Seguro/BA, Eunápolis/BA', 3),\n",
       " ('Camamu/BA', 3),\n",
       " ('Pau Brasil/BA', 3),\n",
       " ('Milagres/BA', 3),\n",
       " ('Belmonte/BA', 3),\n",
       " ('Piritiba/BA, Mundo Novo/BA', 3),\n",
       " ('Petrolina/PE', 3),\n",
       " ('Feira de Santana/BA, Salvador/BA', 3),\n",
       " ('Belo Horizonte/MG', 3),\n",
       " ('Arataca/BA', 3),\n",
       " ('Canudos/BA', 3),\n",
       " ('Saubara/BA', 3),\n",
       " ('Londrina/PR', 3),\n",
       " ('Castro Alves/BA', 3),\n",
       " ('Muzambinho/MG', 3),\n",
       " ('Caldeirão Grande/BA', 3),\n",
       " ('São Miguel dos Campos/AL', 3),\n",
       " ('Várzea Nova/BA', 3),\n",
       " ('Jacobina/BA, Irecê/BA, Campo Formoso/BA', 2),\n",
       " ('Ipirá/BA, Campo Formoso/BA, Juazeiro/BA', 2),\n",
       " ('Ipirá/BA', 2),\n",
       " ('Teofilândia/BA', 2),\n",
       " ('Salvador/BA, Salvador/BA', 2),\n",
       " ('Coimbra/Portugal', 2),\n",
       " ('Munique/Alemanha', 2),\n",
       " ('Campina Grande/PB', 2),\n",
       " ('Utinga/BA', 2),\n",
       " ('Piatã/BA, Abaíra/BA', 2),\n",
       " ('Belém/PA', 2),\n",
       " ('Palmeiras/BA', 2),\n",
       " ('Parati/RJ', 2),\n",
       " ('Sertãozinho/SP, Sorocaba/SP', 2),\n",
       " ('Wenceslau Guimarães/BA', 2),\n",
       " ('Mundo Novo/BA, Piritiba/BA, Caldeirão Grande/BA', 2),\n",
       " ('Aratuípe/BA', 2),\n",
       " ('Vera Cruz/BA', 2),\n",
       " ('Caldas Novas/GO', 2),\n",
       " ('Lisboa/Portugal', 2),\n",
       " ('Feira de Santana/BA, Camaçari/BA', 2),\n",
       " ('Cabaceiras do Paraguaçu/BA', 2),\n",
       " ('Morro do Chapéu/BA', 2),\n",
       " ('Belo Jardim/PE', 2),\n",
       " ('Cruz das Almas/BA', 2),\n",
       " ('Barrocas/BA', 2)]"
      ]
     },
     "execution_count": 28,
     "metadata": {},
     "output_type": "execute_result"
    }
   ],
   "source": [
    "mais_comuns"
   ]
  },
  {
   "cell_type": "code",
   "execution_count": 44,
   "metadata": {},
   "outputs": [
    {
     "data": {
      "text/plain": [
       "<matplotlib.image.AxesImage at 0x1a22e97e48>"
      ]
     },
     "execution_count": 44,
     "metadata": {},
     "output_type": "execute_result"
    },
    {
     "data": {
      "image/png": "[encoded data removed]",
      "text/plain": [
       "<Figure size 432x288 with 1 Axes>"
      ]
     },
     "metadata": {
      "needs_background": "light"
     },
     "output_type": "display_data"
    }
   ],
   "source": [
    "plt.imshow(nuvem)"
   ]
  },
  {
   "cell_type": "markdown",
   "metadata": {},
   "source": [
    "\n",
    "\n",
    "#nltk.download()\n",
    "\n",
    "\n",
    "corpus = PlaintextCorpusReader('Arquivos', '.*')\n",
    "\n",
    "arquivos = corpus.fileids()\n",
    "arquivos[0]\n",
    "arquivos[0:100]\n",
    "for a in arquivos:\n",
    "    print(a)\n",
    "    \n",
    "texto = corpus.raw('1.txt')\n",
    "\n",
    "todo_texto = corpus.raw()\n",
    "palavras = corpus.words()\n",
    "palavras[170]\n",
    "len(palavras)\n",
    "\n",
    "stops = stopwords.words('english')\n",
    "stops = nltk.corpus.stopwords.words('portuguese')\n",
    "mapa_cores = ListedColormap(['orange', 'green', 'red', 'magenta'])\n",
    "nuvem = WordCloud(background_color = 'white',\n",
    "                  colormap = mapa_cores,\n",
    "                  stopwords = stops,\n",
    "                  max_words = 100)\n",
    "nuvem.generate(todo_texto)\n",
    "plt.imshow(nuvem)\n",
    "\n",
    "palavras_semstop = [p for p in palavras if p not in stops]\n",
    "len(palavras_semstop)\n",
    "\n",
    "palavras_sem_pontuacao = [p for p in palavras_semstop if p not in string.punctuation]\n",
    "len(palavras_sem_pontuacao)\n",
    "\n",
    "frequencia = nltk.FreqDist(palavras_sem_pontuacao)\n",
    "mais_comuns = frequencia.most_common(100)\n",
    "\n",
    "\n"
   ]
  },
  {
   "cell_type": "code",
   "execution_count": null,
   "metadata": {},
   "outputs": [],
   "source": []
  }
 ],
 "metadata": {
  "kernelspec": {
   "display_name": "Python 3",
   "language": "python",
   "name": "python3"
  },
  "language_info": {
   "codemirror_mode": {
    "name": "ipython",
    "version": 3
   },
   "file_extension": ".py",
   "mimetype": "text/x-python",
   "name": "python",
   "nbconvert_exporter": "python",
   "pygments_lexer": "ipython3",
   "version": "3.7.1"
  }
 },
 "nbformat": 4,
 "nbformat_minor": 2
}
